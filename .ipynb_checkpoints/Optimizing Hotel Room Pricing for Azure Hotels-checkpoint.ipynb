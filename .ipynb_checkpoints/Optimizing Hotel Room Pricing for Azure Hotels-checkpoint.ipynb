{
 "cells": [
  {
   "cell_type": "markdown",
   "id": "4706ccb0",
   "metadata": {},
   "source": [
    "# Optimizing Hotel Room Pricing for Azure Hotels\n",
    "\n",
    "## Introduction\n",
    "This notebook presents a comprehensive analysis for Azure Hotels to optimize room pricing strategies aimed at maximizing revenue and profitability. The analysis includes customer segmentation, identification of pricing drivers, development of a pricing strategy, and quantification of the strategy's impact.\n",
    "\n",
    "## Step 1: Load and Inspect the Dataset\n",
    "We start by loading the dataset and inspecting its structure to understand the available data and prepare for further analysis.\n"
   ]
  },
  {
   "cell_type": "code",
   "execution_count": 1,
   "id": "ab9bf648",
   "metadata": {},
   "outputs": [],
   "source": [
    "# Import necessary libraries\n",
    "import pandas as pd\n",
    "\n",
    "# Load the dataset\n",
    "data_path = './Quantzig - Campus Hiring - DS Dataset 1.xlsx'\n",
    "data = pd.read_excel(data_path)\n"
   ]
  },
  {
   "cell_type": "code",
   "execution_count": 2,
   "id": "9c2bc9f9",
   "metadata": {},
   "outputs": [
    {
     "name": "stdout",
     "output_type": "stream",
     "text": [
      "<class 'pandas.core.frame.DataFrame'>\n",
      "RangeIndex: 119390 entries, 0 to 119389\n",
      "Data columns (total 32 columns):\n",
      " #   Column                          Non-Null Count   Dtype         \n",
      "---  ------                          --------------   -----         \n",
      " 0   hotel                           119390 non-null  object        \n",
      " 1   is_canceled                     119390 non-null  object        \n",
      " 2   lead_time                       119390 non-null  int64         \n",
      " 3   arrival_date_year               119390 non-null  int64         \n",
      " 4   arrival_date_month              119390 non-null  object        \n",
      " 5   arrival_date_week_number        119390 non-null  int64         \n",
      " 6   arrival_date_day_of_month       119390 non-null  int64         \n",
      " 7   stays_in_weekend_nights         119390 non-null  int64         \n",
      " 8   stays_in_week_nights            119390 non-null  int64         \n",
      " 9   adults                          119390 non-null  int64         \n",
      " 10  children                        119386 non-null  float64       \n",
      " 11  babies                          119390 non-null  int64         \n",
      " 12  meal                            119390 non-null  object        \n",
      " 13  country                         118902 non-null  object        \n",
      " 14  market_segment                  119390 non-null  object        \n",
      " 15  distribution_channel            119390 non-null  object        \n",
      " 16  is_repeated_guest               119390 non-null  int64         \n",
      " 17  previous_cancellations          119390 non-null  int64         \n",
      " 18  previous_bookings_not_canceled  119390 non-null  int64         \n",
      " 19  reserved_room_type              119390 non-null  object        \n",
      " 20  assigned_room_type              119390 non-null  object        \n",
      " 21  booking_changes                 119390 non-null  int64         \n",
      " 22  deposit_type                    119390 non-null  object        \n",
      " 23  agent                           103050 non-null  float64       \n",
      " 24  company                         6797 non-null    float64       \n",
      " 25  days_in_waiting_list            119390 non-null  int64         \n",
      " 26  customer_type                   119390 non-null  object        \n",
      " 27  adr                             119390 non-null  float64       \n",
      " 28  required_car_parking_spaces     119390 non-null  int64         \n",
      " 29  total_of_special_requests       119390 non-null  int64         \n",
      " 30  reservation_status              119390 non-null  object        \n",
      " 31  reservation_status_date         119390 non-null  datetime64[ns]\n",
      "dtypes: datetime64[ns](1), float64(4), int64(15), object(12)\n",
      "memory usage: 29.1+ MB\n",
      "None\n"
     ]
    }
   ],
   "source": [
    "# Display basic information and the first few rows to understand the structure\n",
    "\n",
    "print(data.info())"
   ]
  },
  {
   "cell_type": "code",
   "execution_count": 3,
   "id": "aea2158a",
   "metadata": {},
   "outputs": [
    {
     "name": "stdout",
     "output_type": "stream",
     "text": [
      "          hotel is_canceled  lead_time  arrival_date_year arrival_date_month  \\\n",
      "0  Resort Hotel   Cancelled        342               2021               July   \n",
      "1  Resort Hotel   Cancelled        737               2021               July   \n",
      "2  Resort Hotel   Cancelled          7               2021               July   \n",
      "3  Resort Hotel   Cancelled         13               2021               July   \n",
      "4  Resort Hotel   Cancelled         14               2021               July   \n",
      "\n",
      "   arrival_date_week_number  arrival_date_day_of_month  \\\n",
      "0                        27                          1   \n",
      "1                        27                          1   \n",
      "2                        27                          1   \n",
      "3                        27                          1   \n",
      "4                        27                          1   \n",
      "\n",
      "   stays_in_weekend_nights  stays_in_week_nights  adults  ...  deposit_type  \\\n",
      "0                        0                     0       2  ...    No Deposit   \n",
      "1                        0                     0       2  ...    No Deposit   \n",
      "2                        0                     1       1  ...    No Deposit   \n",
      "3                        0                     1       1  ...    No Deposit   \n",
      "4                        0                     2       2  ...    No Deposit   \n",
      "\n",
      "   agent company days_in_waiting_list customer_type   adr  \\\n",
      "0    NaN     NaN                    0     Transient   0.0   \n",
      "1    NaN     NaN                    0     Transient   0.0   \n",
      "2    NaN     NaN                    0     Transient  75.0   \n",
      "3  304.0     NaN                    0     Transient  75.0   \n",
      "4  240.0     NaN                    0     Transient  98.0   \n",
      "\n",
      "   required_car_parking_spaces  total_of_special_requests  reservation_status  \\\n",
      "0                            0                          0           Check-Out   \n",
      "1                            0                          0           Check-Out   \n",
      "2                            0                          0           Check-Out   \n",
      "3                            0                          0           Check-Out   \n",
      "4                            0                          1           Check-Out   \n",
      "\n",
      "  reservation_status_date  \n",
      "0              2015-07-01  \n",
      "1              2015-07-01  \n",
      "2              2015-07-02  \n",
      "3              2015-07-02  \n",
      "4              2015-07-03  \n",
      "\n",
      "[5 rows x 32 columns]\n"
     ]
    }
   ],
   "source": [
    "print(data.head())"
   ]
  },
  {
   "cell_type": "markdown",
   "id": "c534bf46",
   "metadata": {},
   "source": [
    "## Step 2: Customer Segmentation\n",
    "\n",
    "We will segment the customer base using K-means clustering based on features that may impact their booking behaviors and preferences.\n",
    "\n",
    "### Feature Selection and Preprocessing\n",
    "\n",
    "We select features relevant for clustering and scale them to ensure that all features contribute equally.\n"
   ]
  },
  {
   "cell_type": "code",
   "execution_count": 4,
   "id": "1f0cadaa",
   "metadata": {},
   "outputs": [
    {
     "data": {
      "image/png": "[encoded data removed]",
      "text/plain": [
       "<Figure size 1000x600 with 1 Axes>"
      ]
     },
     "metadata": {},
     "output_type": "display_data"
    },
    {
     "name": "stdout",
     "output_type": "stream",
     "text": [
      "\n",
      "Columns in DataFrame:\n",
      " Index(['hotel', 'is_canceled', 'lead_time', 'arrival_date_year',\n",
      "       'arrival_date_month', 'arrival_date_week_number',\n",
      "       'arrival_date_day_of_month', 'stays_in_weekend_nights',\n",
      "       'stays_in_week_nights', 'adults', 'children', 'babies', 'meal',\n",
      "       'country', 'market_segment', 'distribution_channel',\n",
      "       'is_repeated_guest', 'previous_cancellations',\n",
      "       'previous_bookings_not_canceled', 'reserved_room_type',\n",
      "       'assigned_room_type', 'booking_changes', 'deposit_type', 'agent',\n",
      "       'company', 'days_in_waiting_list', 'customer_type', 'adr',\n",
      "       'required_car_parking_spaces', 'total_of_special_requests',\n",
      "       'reservation_status', 'reservation_status_date', 'Cluster'],\n",
      "      dtype='object')\n",
      "\n",
      "First few rows with cluster labels:\n",
      "    adults  children  lead_time  total_of_special_requests  Cluster\n",
      "0       2       0.0        342                          0      0.0\n",
      "1       2       0.0        737                          0      0.0\n",
      "2       1       0.0          7                          0      3.0\n",
      "3       1       0.0         13                          0      3.0\n",
      "4       2       0.0         14                          1      1.0\n"
     ]
    }
   ],
   "source": [
    "import matplotlib.pyplot as plt\n",
    "from sklearn.preprocessing import StandardScaler\n",
    "from sklearn.cluster import KMeans\n",
    "\n",
    "# Selecting features for clustering\n",
    "features = data[['adults', 'children', 'lead_time', 'total_of_special_requests']].dropna()\n",
    "\n",
    "# Scaling the features\n",
    "scaler = StandardScaler()\n",
    "features_scaled = scaler.fit_transform(features)\n",
    "\n",
    "# Determine the optimal number of clusters using the elbow method\n",
    "inertia = []\n",
    "for k in range(1, 11):\n",
    "    kmeans = KMeans(n_clusters=k, random_state=42)\n",
    "    kmeans.fit(features_scaled)\n",
    "    inertia.append(kmeans.inertia_)\n",
    "\n",
    "# Plotting the elbow curve\n",
    "plt.figure(figsize=(10, 6))\n",
    "plt.plot(range(1, 11), inertia, marker='o')\n",
    "plt.title('Elbow Method for Optimal k')\n",
    "plt.xlabel('Number of clusters')\n",
    "plt.ylabel('Inertia')\n",
    "plt.show()\n",
    "\n",
    "# Applying K-means clustering with an assumed optimal number of clusters\n",
    "optimal_k = 4  # Assuming visual inspection from the elbow plot\n",
    "clusters = KMeans(n_clusters=optimal_k, random_state=42).fit_predict(features_scaled)\n",
    "\n",
    "# Adding the cluster labels to the DataFrame\n",
    "data.loc[features.index, 'Cluster'] = clusters\n",
    "\n",
    "# Print column names with added spacing for better readability\n",
    "print(\"\\nColumns in DataFrame:\\n\", data.columns)\n",
    "\n",
    "# Displaying the first few rows with cluster labels from the 'data' DataFrame with added spacing for better readability\n",
    "print(\"\\nFirst few rows with cluster labels:\\n\", data[['adults', 'children', 'lead_time', 'total_of_special_requests', 'Cluster']].head())"
   ]
  },
  {
   "cell_type": "markdown",
   "id": "1fe984cb",
   "metadata": {},
   "source": [
    "## Step 3: Pricing Drivers Identification\n",
    "We analyze factors that influence room pricing, which includes understanding how different variables like booking lead times, room types, and customer segments affect pricing.\n"
   ]
  },
  {
   "cell_type": "code",
   "execution_count": 5,
   "id": "2c3f07f8",
   "metadata": {},
   "outputs": [
    {
     "name": "stdout",
     "output_type": "stream",
     "text": [
      "Mean Squared Error: 1903.6792577816489\n"
     ]
    }
   ],
   "source": [
    "import numpy as np\n",
    "from sklearn.linear_model import LinearRegression\n",
    "from sklearn.model_selection import train_test_split\n",
    "from sklearn.metrics import mean_squared_error\n",
    "from sklearn.impute import SimpleImputer\n",
    "\n",
    "# Selecting features for the regression analysis and filling NaN values in numeric columns\n",
    "numeric_features = ['lead_time', 'adults', 'children', 'stays_in_week_nights', 'Cluster']\n",
    "\n",
    "# Check and fill NaNs only for numeric features\n",
    "for feature in numeric_features:\n",
    "    if data[feature].isnull().any():\n",
    "        data[feature] = data[feature].fillna(data[feature].median())\n",
    "\n",
    "# Assuming 'adr' (average daily rate) is also a numeric column\n",
    "if data['adr'].isnull().any():\n",
    "    data['adr'] = data['adr'].fillna(data['adr'].mean())\n",
    "\n",
    "# Define predictors X and target y\n",
    "X = data[numeric_features]\n",
    "y = data['adr']\n",
    "\n",
    "# Splitting the dataset into training and testing sets\n",
    "X_train, X_test, y_train, y_test = train_test_split(X, y, test_size=0.2, random_state=42)\n",
    "\n",
    "# Building and training the regression model\n",
    "model = LinearRegression()\n",
    "model.fit(X_train, y_train)\n",
    "\n",
    "# Predicting and evaluating the model's performance\n",
    "y_pred = model.predict(X_test)\n",
    "mse = mean_squared_error(y_test, y_pred)\n",
    "print(f'Mean Squared Error: {mse}')"
   ]
  },
  {
   "cell_type": "markdown",
   "id": "1607f01e",
   "metadata": {},
   "source": [
    "## Step 4: Develop Pricing Strategy\n",
    "Based on the insights from customer segmentation and regression analysis, we develop a dynamic pricing strategy tailored to customer behavior and booking patterns.\n",
    "\n",
    "### Strategy Formulation\n",
    "We design a pricing function that adjusts room rates based on customer segments and booking lead time, aiming to maximize revenue during high-demand periods while maintaining competitive pricing in lower-demand periods.\n"
   ]
  },
  {
   "cell_type": "code",
   "execution_count": 6,
   "id": "04e15e5a",
   "metadata": {},
   "outputs": [],
   "source": [
    "# Define a simple pricing strategy function based on clustering results\n",
    "def pricing_strategy(cluster, lead_time):\n",
    "    if cluster == 0 and lead_time < 10:\n",
    "        return 1.1  # increase prices by 10%\n",
    "    elif cluster == 1 and lead_time >= 10:\n",
    "        return 0.95  # decrease prices by 5%\n",
    "    else:\n",
    "        return 1.0  # no change\n",
    "\n",
    "# Applying the pricing strategy\n",
    "data['Adjusted_Price'] = data.apply(lambda row: row['adr'] * pricing_strategy(row['Cluster'], row['lead_time']), axis=1)\n"
   ]
  },
  {
   "cell_type": "markdown",
   "id": "2e35e687",
   "metadata": {},
   "source": [
    "## Step 5: Impact Quantification\n",
    "We estimate the financial impact of our recommended pricing strategy on the hotel's revenue and profitability.\n",
    "\n",
    "### Revenue Impact Calculation\n"
   ]
  },
  {
   "cell_type": "code",
   "execution_count": 7,
   "id": "68b489c8",
   "metadata": {},
   "outputs": [
    {
     "name": "stdout",
     "output_type": "stream",
     "text": [
      "Original Revenue: $12,157,617.60\n",
      "New Revenue: $12,039,178.93\n",
      "Increase in Revenue: $-118,438.67\n",
      "The new pricing strategy has led to a decrease in revenue, which may suggest adverse effects on booking patterns or market competitiveness.\n"
     ]
    }
   ],
   "source": [
    "# Calculate the potential revenue increase\n",
    "original_revenue = data['adr'].sum()\n",
    "new_revenue = data['Adjusted_Price'].sum()\n",
    "increase = new_revenue - original_revenue\n",
    "\n",
    "# Formatting the output for better readability and adding interpretation\n",
    "print(f\"Original Revenue: ${original_revenue:,.2f}\")\n",
    "print(f\"New Revenue: ${new_revenue:,.2f}\")\n",
    "print(f\"Increase in Revenue: ${increase:,.2f}\")\n",
    "\n",
    "# Adding a statement to interpret the revenue change\n",
    "if increase > 0:\n",
    "    print(\"The new pricing strategy has led to an increase in revenue, indicating a positive impact on profitability.\")\n",
    "elif increase < 0:\n",
    "    print(\"The new pricing strategy has led to a decrease in revenue, which may suggest adverse effects on booking patterns or market competitiveness.\")\n",
    "else:\n",
    "    print(\"There has been no change in revenue, indicating that the new pricing strategy has neither positively nor negatively impacted profitability.\")\n"
   ]
  },
  {
   "cell_type": "markdown",
   "id": "796b8807",
   "metadata": {},
   "source": [
    "## Conclusion\n",
    "This analysis provided a detailed approach to optimize room pricing at Azure Hotels. By understanding customer segments, identifying key pricing drivers, and implementing a dynamic pricing strategy, we aim to enhance profitability. Future steps include refining the model with more granular data and continuous monitoring of market trends.\n",
    "\n",
    "### Next Steps\n",
    "- Further refine pricing models with real-time data integration.\n",
    "- Continuous A/B testing of pricing strategies to adapt to market changes.\n",
    "- Regular updates of customer segmentation based on latest booking trends.\n"
   ]
  },
  {
   "cell_type": "code",
   "execution_count": null,
   "id": "64727e83",
   "metadata": {},
   "outputs": [],
   "source": []
  }
 ],
 "metadata": {
  "kernelspec": {
   "display_name": "Python 3 (ipykernel)",
   "language": "python",
   "name": "python3"
  },
  "language_info": {
   "codemirror_mode": {
    "name": "ipython",
    "version": 3
   },
   "file_extension": ".py",
   "mimetype": "text/x-python",
   "name": "python",
   "nbconvert_exporter": "python",
   "pygments_lexer": "ipython3",
   "version": "3.10.14"
  }
 },
 "nbformat": 4,
 "nbformat_minor": 5
}
